{
 "cells": [
  {
   "cell_type": "code",
   "execution_count": 1,
   "id": "97951287",
   "metadata": {},
   "outputs": [],
   "source": [
    "import numpy as np"
   ]
  },
  {
   "cell_type": "code",
   "execution_count": 2,
   "id": "2c9e21a9",
   "metadata": {},
   "outputs": [],
   "source": [
    "input = np.array([[0,0],[0,1],[1,0],[1,1]])\n",
    "output = np.array([[0],[1],[1],[0]])"
   ]
  },
  {
   "cell_type": "code",
   "execution_count": 3,
   "id": "0aa5fc21",
   "metadata": {},
   "outputs": [
    {
     "data": {
      "text/plain": [
       "2"
      ]
     },
     "execution_count": 3,
     "metadata": {},
     "output_type": "execute_result"
    }
   ],
   "source": [
    "in_size = input.shape[1]\n",
    "in_size"
   ]
  },
  {
   "cell_type": "code",
   "execution_count": 4,
   "id": "522f921b",
   "metadata": {},
   "outputs": [
    {
     "data": {
      "text/plain": [
       "1"
      ]
     },
     "execution_count": 4,
     "metadata": {},
     "output_type": "execute_result"
    }
   ],
   "source": [
    "out_size = output.shape[1]\n",
    "out_size"
   ]
  },
  {
   "cell_type": "code",
   "execution_count": 5,
   "id": "486bd989",
   "metadata": {},
   "outputs": [],
   "source": [
    "def sigmoid(x):\n",
    "    return 1/(1+np.exp(-x))"
   ]
  },
  {
   "cell_type": "code",
   "execution_count": 6,
   "id": "f6df619b",
   "metadata": {},
   "outputs": [],
   "source": [
    "def sigmoid_derivative(x):\n",
    "    return x*(1-x)"
   ]
  },
  {
   "cell_type": "code",
   "execution_count": 7,
   "id": "7943b2b9",
   "metadata": {},
   "outputs": [],
   "source": [
    "hidden_weights = np.random.rand(in_size,2)\n",
    "hidden_bias = np.random.rand(2)"
   ]
  },
  {
   "cell_type": "code",
   "execution_count": 8,
   "id": "684013e2",
   "metadata": {},
   "outputs": [],
   "source": [
    "output_weights = np.random.rand(in_size,out_size)\n",
    "output_bias = np.random.rand(out_size)"
   ]
  },
  {
   "cell_type": "code",
   "execution_count": 9,
   "id": "3a41a644",
   "metadata": {},
   "outputs": [],
   "source": [
    "lr = 0.8\n",
    "epochs = 10000"
   ]
  },
  {
   "cell_type": "code",
   "execution_count": 10,
   "id": "9122f7f6",
   "metadata": {},
   "outputs": [
    {
     "data": {
      "text/plain": [
       "array([[0.],\n",
       "       [1.],\n",
       "       [1.],\n",
       "       [0.]])"
      ]
     },
     "execution_count": 10,
     "metadata": {},
     "output_type": "execute_result"
    }
   ],
   "source": [
    "for i in range(epochs):\n",
    "    hidden_output = sigmoid(np.dot(input,hidden_weights)+hidden_bias)\n",
    "    predicted_output = sigmoid(np.dot(hidden_output,output_weights)+output_bias)\n",
    "    \n",
    "    #Getting Errors and Back Propogation\n",
    "    out_error = output - predicted_output\n",
    "    out_delta = out_error * sigmoid_derivative(predicted_output)\n",
    "    \n",
    "    hidden_error = out_delta.dot(output_weights.T)\n",
    "    hidden_delta = hidden_error * sigmoid_derivative(hidden_output)\n",
    "    \n",
    "    #Updating Weights\n",
    "    output_weights += hidden_output.T.dot(out_delta) * lr\n",
    "    output_bias += np.sum(out_delta,axis=0) * lr\n",
    "    \n",
    "    hidden_weights += input.T.dot(hidden_delta) * lr\n",
    "    hidden_bias += np.sum(hidden_delta,axis=0) * lr\n",
    "    \n",
    "    \n",
    "hidden_output = sigmoid(np.dot(input,hidden_weights)+hidden_bias)\n",
    "predicted_output = sigmoid(np.dot(hidden_output,output_weights)+output_bias)\n",
    "\n",
    "np.round(predicted_output)"
   ]
  },
  {
   "cell_type": "code",
   "execution_count": null,
   "id": "eb2248b7",
   "metadata": {},
   "outputs": [],
   "source": []
  }
 ],
 "metadata": {
  "kernelspec": {
   "display_name": "Python 3 (ipykernel)",
   "language": "python",
   "name": "python3"
  },
  "language_info": {
   "codemirror_mode": {
    "name": "ipython",
    "version": 3
   },
   "file_extension": ".py",
   "mimetype": "text/x-python",
   "name": "python",
   "nbconvert_exporter": "python",
   "pygments_lexer": "ipython3",
   "version": "3.9.13"
  }
 },
 "nbformat": 4,
 "nbformat_minor": 5
}
