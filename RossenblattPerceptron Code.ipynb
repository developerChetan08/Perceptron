{
 "cells": [
  {
   "cell_type": "code",
   "execution_count": 1,
   "id": "37586673",
   "metadata": {},
   "outputs": [],
   "source": [
    "import numpy as np"
   ]
  },
  {
   "cell_type": "code",
   "execution_count": 2,
   "id": "36dd6846",
   "metadata": {},
   "outputs": [],
   "source": [
    "class RossenblattPerceptron:\n",
    "    def __init__(self,lr=0.1,epochs=100):\n",
    "        self.learning_rate = lr\n",
    "        self.epochs = epochs\n",
    "    \n",
    "    def step_function(self,x):\n",
    "        return 0 if x < 30 else 1\n",
    "    \n",
    "    def train(self,input,labels):\n",
    "        input_size = len(input[0])\n",
    "        self.weights = np.random.rand(input_size + 1)\n",
    "        for i in range(self.epochs):\n",
    "            for inputs,label in zip(input,labels):\n",
    "                prediction = self.predict(inputs)\n",
    "                error = label - prediction\n",
    "                self.weights[1:] += self.learning_rate * error * inputs\n",
    "                self.weights[0] += self.learning_rate * error\n",
    "                \n",
    "    def predict(self,inputs):\n",
    "        summ = np.dot(inputs,self.weights[1:]) + self.weights[0]\n",
    "        return self.step_function(summ)\n",
    "    \n",
    "    def get_weights(self):\n",
    "        print(\"Weigths:- \",self.weights)"
   ]
  },
  {
   "cell_type": "code",
   "execution_count": 3,
   "id": "d0052061",
   "metadata": {},
   "outputs": [],
   "source": [
    "training_data = np.array([[0,0],[0,1],[1,0],[1,1]])\n",
    "labels = np.array([1,1,1,0])"
   ]
  },
  {
   "cell_type": "code",
   "execution_count": 4,
   "id": "332d8c30",
   "metadata": {},
   "outputs": [
    {
     "data": {
      "text/plain": [
       "array([[0, 0],\n",
       "       [0, 1],\n",
       "       [1, 0],\n",
       "       [1, 1]])"
      ]
     },
     "execution_count": 4,
     "metadata": {},
     "output_type": "execute_result"
    }
   ],
   "source": [
    "training_data"
   ]
  },
  {
   "cell_type": "code",
   "execution_count": 5,
   "id": "8a6df5bd",
   "metadata": {},
   "outputs": [
    {
     "data": {
      "text/plain": [
       "array([1, 1, 1, 0])"
      ]
     },
     "execution_count": 5,
     "metadata": {},
     "output_type": "execute_result"
    }
   ],
   "source": [
    "labels"
   ]
  },
  {
   "cell_type": "code",
   "execution_count": 6,
   "id": "78aeb44a",
   "metadata": {},
   "outputs": [],
   "source": [
    "preceptron = RossenblattPerceptron(lr=0.3)"
   ]
  },
  {
   "cell_type": "code",
   "execution_count": 7,
   "id": "1d427b35",
   "metadata": {},
   "outputs": [],
   "source": [
    "preceptron.train(training_data,labels)"
   ]
  },
  {
   "cell_type": "code",
   "execution_count": 8,
   "id": "09bda1b9",
   "metadata": {},
   "outputs": [],
   "source": [
    "testing_data = np.array([[0,0],[0,1],[1,0],[1,1]])"
   ]
  },
  {
   "cell_type": "code",
   "execution_count": 9,
   "id": "2a3bfdc4",
   "metadata": {},
   "outputs": [
    {
     "name": "stdout",
     "output_type": "stream",
     "text": [
      "Input : [0 0] Predicted : 1\n",
      "Input : [0 1] Predicted : 1\n",
      "Input : [1 0] Predicted : 1\n",
      "Input : [1 1] Predicted : 0\n"
     ]
    }
   ],
   "source": [
    "for i in testing_data:\n",
    "    print(\"Input : {} Predicted : {}\".format(i,preceptron.predict(i)))"
   ]
  },
  {
   "cell_type": "code",
   "execution_count": null,
   "id": "1d6ae4f6",
   "metadata": {},
   "outputs": [],
   "source": []
  },
  {
   "cell_type": "code",
   "execution_count": null,
   "id": "eee63dc0",
   "metadata": {},
   "outputs": [],
   "source": []
  }
 ],
 "metadata": {
  "kernelspec": {
   "display_name": "Python 3 (ipykernel)",
   "language": "python",
   "name": "python3"
  },
  "language_info": {
   "codemirror_mode": {
    "name": "ipython",
    "version": 3
   },
   "file_extension": ".py",
   "mimetype": "text/x-python",
   "name": "python",
   "nbconvert_exporter": "python",
   "pygments_lexer": "ipython3",
   "version": "3.9.13"
  }
 },
 "nbformat": 4,
 "nbformat_minor": 5
}
